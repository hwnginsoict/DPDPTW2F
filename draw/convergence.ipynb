{
 "cells": [
  {
   "cell_type": "code",
   "execution_count": 2,
   "metadata": {},
   "outputs": [
    {
     "name": "stdout",
     "output_type": "stream",
     "text": [
      "f:\\CodingEnvironment\\DPDPTW2F\n"
     ]
    },
    {
     "name": "stderr",
     "output_type": "stream",
     "text": [
      "C:\\Users\\Admin\\AppData\\Roaming\\Python\\Python311\\site-packages\\IPython\\core\\magics\\osm.py:417: UserWarning: This is now an optional IPython functionality, setting dhist requires you to install the `pickleshare` library.\n",
      "  self.shell.db['dhist'] = compress_dhist(dhist)[-100:]\n"
     ]
    }
   ],
   "source": [
    "cd .."
   ]
  },
  {
   "cell_type": "code",
   "execution_count": 5,
   "metadata": {},
   "outputs": [],
   "source": [
    "import json\n",
    "import matplotlib.pyplot as plt\n",
    "from moo_algorithm.metric import cal_hv  # <-- adjust import as needed\n",
    "import numpy as np\n",
    "\n",
    "def read_json(filename):\n",
    "    \"\"\"\n",
    "    Utility function to read JSON data from file.\n",
    "    \"\"\"\n",
    "    with open(filename, 'r') as f:\n",
    "        data = json.load(f)\n",
    "    return data\n",
    "\n",
    "def calculate_hv_over_generations(algorithm_data, ref_point):\n",
    "    \"\"\"\n",
    "    Given the data for one algorithm (e.g., \"NSGA-II\"),\n",
    "    compute hypervolume for each generation.\n",
    "    \n",
    "    The structure is:\n",
    "    {\n",
    "      \"0\": [\n",
    "        [0.7426, 0.1261, 0.3681],\n",
    "        ...\n",
    "      ],\n",
    "      \"1\": [\n",
    "        [0.7488, 0.1250, 0.3417],\n",
    "        ...\n",
    "      ],\n",
    "      ...\n",
    "    }\n",
    "    \"\"\"\n",
    "    hv_values = []\n",
    "    \n",
    "    # Convert the generation keys to integers and sort them \n",
    "    # to get generations in ascending order.\n",
    "    gen_indices = sorted(int(g) for g in algorithm_data.keys())\n",
    "    \n",
    "    for gen_idx in gen_indices:\n",
    "        str_idx = str(gen_idx)                   # Convert back to string for dictionary access\n",
    "        front = algorithm_data[str_idx]          # front is a list of objective vectors\n",
    "        hv = cal_hv(np.array(front), ref_point)     # compute the hypervolume for this generation\n",
    "        hv_values.append(hv)\n",
    "        \n",
    "    return hv_values\n",
    "\n",
    "def plot_convergence_trend(hv_values_nsga2, hv_values_pfg):\n",
    "    \"\"\"\n",
    "    Plot HV vs. generation for NSGA-II and PFG-EMOA (example).\n",
    "    \"\"\"\n",
    "    # We'll assume both have the same number of generations for demonstration\n",
    "    # If not, you can handle them separately or adapt the code.\n",
    "    generations = range(1, len(hv_values_nsga2) + 1)\n",
    "\n",
    "    plt.figure(figsize=(8, 5))\n",
    "    plt.plot(generations, hv_values_nsga2, label='NSGA-II HV', marker='o')\n",
    "    plt.plot(generations, hv_values_pfg, label='PFG-EMOA HV', marker='s')\n",
    "    plt.xlabel('Generation')\n",
    "    plt.ylabel('Hypervolume')\n",
    "    plt.title('Convergence Trend')\n",
    "    plt.legend()\n",
    "    plt.grid(True)\n",
    "    plt.show()"
   ]
  },
  {
   "cell_type": "code",
   "execution_count": 7,
   "metadata": {},
   "outputs": [
    {
     "ename": "AttributeError",
     "evalue": "'list' object has no attribute 'objectives'",
     "output_type": "error",
     "traceback": [
      "\u001b[1;31m---------------------------------------------------------------------------\u001b[0m",
      "\u001b[1;31mAttributeError\u001b[0m                            Traceback (most recent call last)",
      "Cell \u001b[1;32mIn[7], line 13\u001b[0m\n\u001b[0;32m     10\u001b[0m pfg_data   \u001b[38;5;241m=\u001b[39m results[\u001b[38;5;124m\"\u001b[39m\u001b[38;5;124mPFG-EMOA\u001b[39m\u001b[38;5;124m\"\u001b[39m]        \u001b[38;5;66;03m# e.g. { \"0\": [[...],[...]], \"1\": [[...],[...]], ... }\u001b[39;00m\n\u001b[0;32m     12\u001b[0m \u001b[38;5;66;03m# 4) Compute HV for each generation\u001b[39;00m\n\u001b[1;32m---> 13\u001b[0m hv_values_nsga2 \u001b[38;5;241m=\u001b[39m \u001b[43mcalculate_hv_over_generations\u001b[49m\u001b[43m(\u001b[49m\u001b[43mnsga2_data\u001b[49m\u001b[43m,\u001b[49m\u001b[43m \u001b[49m\u001b[43mreference_point\u001b[49m\u001b[43m)\u001b[49m\n\u001b[0;32m     14\u001b[0m hv_values_pfg   \u001b[38;5;241m=\u001b[39m calculate_hv_over_generations(pfg_data, reference_point)\n\u001b[0;32m     16\u001b[0m \u001b[38;5;66;03m# 5) Plot the convergence trend\u001b[39;00m\n",
      "Cell \u001b[1;32mIn[5], line 40\u001b[0m, in \u001b[0;36mcalculate_hv_over_generations\u001b[1;34m(algorithm_data, ref_point)\u001b[0m\n\u001b[0;32m     38\u001b[0m     str_idx \u001b[38;5;241m=\u001b[39m \u001b[38;5;28mstr\u001b[39m(gen_idx)                   \u001b[38;5;66;03m# Convert back to string for dictionary access\u001b[39;00m\n\u001b[0;32m     39\u001b[0m     front \u001b[38;5;241m=\u001b[39m algorithm_data[str_idx]          \u001b[38;5;66;03m# front is a list of objective vectors\u001b[39;00m\n\u001b[1;32m---> 40\u001b[0m     hv \u001b[38;5;241m=\u001b[39m \u001b[43mcal_hv_front\u001b[49m\u001b[43m(\u001b[49m\u001b[43mfront\u001b[49m\u001b[43m,\u001b[49m\u001b[43m \u001b[49m\u001b[43mref_point\u001b[49m\u001b[43m)\u001b[49m      \u001b[38;5;66;03m# compute the hypervolume for this generation\u001b[39;00m\n\u001b[0;32m     41\u001b[0m     hv_values\u001b[38;5;241m.\u001b[39mappend(hv)\n\u001b[0;32m     43\u001b[0m \u001b[38;5;28;01mreturn\u001b[39;00m hv_values\n",
      "File \u001b[1;32mf:\\CodingEnvironment\\DPDPTW2F\\moo_algorithm\\metric.py:13\u001b[0m, in \u001b[0;36mcal_hv_front\u001b[1;34m(indi_list, ref_point)\u001b[0m\n\u001b[0;32m     11\u001b[0m front \u001b[38;5;241m=\u001b[39m []\n\u001b[0;32m     12\u001b[0m \u001b[38;5;28;01mfor\u001b[39;00m indi \u001b[38;5;129;01min\u001b[39;00m indi_list:\n\u001b[1;32m---> 13\u001b[0m     front\u001b[38;5;241m.\u001b[39mappend(\u001b[43mindi\u001b[49m\u001b[38;5;241;43m.\u001b[39;49m\u001b[43mobjectives\u001b[49m)\n\u001b[0;32m     14\u001b[0m \u001b[38;5;28;01mreturn\u001b[39;00m cal_hv(np\u001b[38;5;241m.\u001b[39marray(front), ref_point)\n",
      "\u001b[1;31mAttributeError\u001b[0m: 'list' object has no attribute 'objectives'"
     ]
    }
   ],
   "source": [
    "\n",
    "# 1) Read the JSON results\n",
    "results = read_json(\"Result/LC1_8_1.json\")  # Adjust path as needed\n",
    "\n",
    "# 2) Choose a reference point that is \"worse\" than any point in the data\n",
    "reference_point = [2.0, 2.0, 2.0]  # Example for a 3-objective problem; adjust as needed\n",
    "\n",
    "# 3) Extract data for each algorithm\n",
    "#    Suppose your JSON has two top-level keys: \"NSGA-II\" and \"PFG-EMOA\"\n",
    "nsga2_data = results[\"NSGA-II\"]         # e.g. { \"0\": [[...],[...]], \"1\": [[...],[...]], ... }\n",
    "pfg_data   = results[\"PFG-EMOA\"]        # e.g. { \"0\": [[...],[...]], \"1\": [[...],[...]], ... }\n",
    "\n",
    "# 4) Compute HV for each generation\n",
    "hv_values_nsga2 = calculate_hv_over_generations(nsga2_data, reference_point)\n",
    "hv_values_pfg   = calculate_hv_over_generations(pfg_data, reference_point)\n",
    "\n",
    "# 5) Plot the convergence trend\n",
    "plot_convergence_trend(hv_values_nsga2, hv_values_pfg)"
   ]
  },
  {
   "cell_type": "code",
   "execution_count": null,
   "metadata": {},
   "outputs": [],
   "source": []
  }
 ],
 "metadata": {
  "kernelspec": {
   "display_name": "Python 3",
   "language": "python",
   "name": "python3"
  },
  "language_info": {
   "codemirror_mode": {
    "name": "ipython",
    "version": 3
   },
   "file_extension": ".py",
   "mimetype": "text/x-python",
   "name": "python",
   "nbconvert_exporter": "python",
   "pygments_lexer": "ipython3",
   "version": "3.11.9"
  }
 },
 "nbformat": 4,
 "nbformat_minor": 2
}
